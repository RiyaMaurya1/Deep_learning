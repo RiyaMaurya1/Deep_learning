{
  "nbformat": 4,
  "nbformat_minor": 0,
  "metadata": {
    "colab": {
      "provenance": [],
      "authorship_tag": "ABX9TyNA/w5dqUjSiSLe8/X0P+EZ",
      "include_colab_link": true
    },
    "kernelspec": {
      "name": "python3",
      "display_name": "Python 3"
    },
    "language_info": {
      "name": "python"
    }
  },
  "cells": [
    {
      "cell_type": "markdown",
      "metadata": {
        "id": "view-in-github",
        "colab_type": "text"
      },
      "source": [
        "<a href=\"https://colab.research.google.com/github/RiyaMaurya1/Deep_learning/blob/main/ANN_Feed_Forward.ipynb\" target=\"_parent\"><img src=\"https://colab.research.google.com/assets/colab-badge.svg\" alt=\"Open In Colab\"/></a>"
      ]
    },
    {
      "cell_type": "code",
      "execution_count": 1,
      "metadata": {
        "id": "VJh7yYSviEfE"
      },
      "outputs": [],
      "source": [
        "import numpy as np"
      ]
    },
    {
      "cell_type": "code",
      "source": [
        "X = np.array([\n",
        "    [1,0,1,0],\n",
        "    [1,0,1,1],\n",
        "    [0,1,0,1]\n",
        "])\n",
        "\n",
        "y = np.array([[1],[1],[0]])\n",
        "\n",
        "X.shape"
      ],
      "metadata": {
        "colab": {
          "base_uri": "https://localhost:8080/"
        },
        "id": "FDPRPm00XtO9",
        "outputId": "c7d30699-55ca-45d3-cecd-7f81df5489da"
      },
      "execution_count": 2,
      "outputs": [
        {
          "output_type": "execute_result",
          "data": {
            "text/plain": [
              "(3, 4)"
            ]
          },
          "metadata": {},
          "execution_count": 2
        }
      ]
    },
    {
      "cell_type": "code",
      "source": [
        "inputneurons = X.shape[1]\n",
        "\n",
        "# equal to no. of features\n",
        "hiddenneurons = 4 \n",
        "\n",
        "outputneurons = 1\n",
        "\n"
      ],
      "metadata": {
        "id": "B1CSwdbVX6m4"
      },
      "execution_count": 7,
      "outputs": []
    },
    {
      "cell_type": "code",
      "source": [
        "weightshidden = np.random.uniform(size = (inputneurons, hiddenneurons))\n",
        "biashidden = np.random.uniform(size = (1, hiddenneurons))\n",
        "biasoutput = np.random.uniform(size = (1, outputneurons))\n",
        "weightsoutput = np.random.uniform(size = (hiddenneurons, outputneurons))"
      ],
      "metadata": {
        "id": "Gb_c9UkLYe3Z"
      },
      "execution_count": 8,
      "outputs": []
    },
    {
      "cell_type": "code",
      "source": [
        "def sigmoid(x):\n",
        "  return 1/(1 + np.exp(-x))\n"
      ],
      "metadata": {
        "id": "T6IOi-UjYfBg"
      },
      "execution_count": 9,
      "outputs": []
    },
    {
      "cell_type": "code",
      "source": [
        "# feed forward \n",
        "\n",
        "# Step 1: Apply linear equation\n",
        "fx1 = np.dot(X, weightshidden) + biashidden\n",
        "\n",
        "fx1"
      ],
      "metadata": {
        "id": "4OUxd2MdiXq9",
        "colab": {
          "base_uri": "https://localhost:8080/"
        },
        "outputId": "2c70ac29-fc4a-4f57-e5fe-60425d4240af"
      },
      "execution_count": 12,
      "outputs": [
        {
          "output_type": "execute_result",
          "data": {
            "text/plain": [
              "array([[1.78051693, 1.7008361 , 1.19860004, 1.91764095],\n",
              "       [2.48052887, 2.69347068, 1.82269492, 2.01202712],\n",
              "       [1.67069485, 1.89892681, 1.26363678, 1.87382455]])"
            ]
          },
          "metadata": {},
          "execution_count": 12
        }
      ]
    },
    {
      "cell_type": "code",
      "source": [
        "# Step 2: Apply activation for non-linearity\n",
        "z = sigmoid(fx1)\n",
        "\n",
        "z"
      ],
      "metadata": {
        "colab": {
          "base_uri": "https://localhost:8080/"
        },
        "id": "tEd61ZY7mBqL",
        "outputId": "72e5b80c-36c1-4f44-a1a4-8f1c6e5943f9"
      },
      "execution_count": 13,
      "outputs": [
        {
          "output_type": "execute_result",
          "data": {
            "text/plain": [
              "array([[0.85576068, 0.8456439 , 0.76827565, 0.87187514],\n",
              "       [0.9227655 , 0.93664026, 0.86088918, 0.88205408],\n",
              "       [0.84166844, 0.86977001, 0.77965152, 0.86690019]])"
            ]
          },
          "metadata": {},
          "execution_count": 13
        }
      ]
    },
    {
      "cell_type": "code",
      "source": [
        "# Step - 3 : apply linear equation on output of hidden layer\n",
        "fx2 = np.dot(z, weightsoutput) + biasoutput\n",
        "\n",
        "# Step - 4 : apply activation on output layer\n",
        "output = sigmoid(fx2)"
      ],
      "metadata": {
        "id": "jsKPHJNTm2Fz"
      },
      "execution_count": 18,
      "outputs": []
    },
    {
      "cell_type": "code",
      "source": [
        "output"
      ],
      "metadata": {
        "colab": {
          "base_uri": "https://localhost:8080/"
        },
        "id": "bSQEZZgmnM71",
        "outputId": "5fe53d3f-98cf-4c52-cafc-ac77f2582f6a"
      },
      "execution_count": 15,
      "outputs": [
        {
          "output_type": "execute_result",
          "data": {
            "text/plain": [
              "array([[0.92594182],\n",
              "       [0.93672593],\n",
              "       [0.92704156]])"
            ]
          },
          "metadata": {},
          "execution_count": 15
        }
      ]
    },
    {
      "cell_type": "code",
      "source": [
        "y"
      ],
      "metadata": {
        "colab": {
          "base_uri": "https://localhost:8080/"
        },
        "id": "eVTqm529nM_6",
        "outputId": "26a3a1b2-f14d-44e0-8c89-e5514bcfc067"
      },
      "execution_count": 16,
      "outputs": [
        {
          "output_type": "execute_result",
          "data": {
            "text/plain": [
              "array([[1],\n",
              "       [1],\n",
              "       [0]])"
            ]
          },
          "metadata": {},
          "execution_count": 16
        }
      ]
    },
    {
      "cell_type": "code",
      "source": [
        "# As there is huge difference between output and target, we will perform backpropagation to rewrite the weights and get closer results. "
      ],
      "metadata": {
        "id": "guclSpLwiWKP"
      },
      "execution_count": null,
      "outputs": []
    }
  ]
}